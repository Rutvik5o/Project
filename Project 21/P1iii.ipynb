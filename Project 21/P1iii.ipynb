{
 "cells": [
  {
   "cell_type": "code",
   "execution_count": 1,
   "id": "9113d477-06ef-4221-a054-b1f8a85d7dce",
   "metadata": {},
   "outputs": [],
   "source": [
    "#Pages you might like"
   ]
  },
  {
   "cell_type": "code",
   "execution_count": 54,
   "id": "6dff6119-b298-4a45-bc37-f02610cb89de",
   "metadata": {},
   "outputs": [
    {
     "name": "stdout",
     "output_type": "stream",
     "text": [
      "[(103, 2), (105, 1), (107, 1), (104, 0), (106, 0), (108, 0), (109, 0), (110, 0), (111, 0), (112, 0), (113, 0), (114, 0), (115, 0), (116, 0), (117, 0), (118, 0), (119, 0), (120, 0), (121, 0), (122, 0), (123, 0), (124, 0), (125, 0), (126, 0), (127, 0)]\n"
     ]
    }
   ],
   "source": [
    "import json\n",
    "\n",
    "#function to lead the json data\n",
    "\n",
    "def load_data(filename):\n",
    "    with open(filename,\"r\") as f:\n",
    "        return json.load(f)\n",
    "\n",
    "\n",
    "#function to find pages a user might like based on common interests\n",
    "\n",
    "def find_pags_you_might_like(user_id,data):\n",
    "\n",
    "    #Dictionary to store user interactions with pages\n",
    "\n",
    "    user_pages = {}\n",
    "\n",
    "    #populate the dictionary\n",
    "\n",
    "    for user in data['users']:\n",
    "        user_pages[user['id']] = set(user['liked_pages'])\n",
    "\n",
    "     #if the user is not found, return an empty list\n",
    "\n",
    "    if user_id not in user_pages:\n",
    "         return []\n",
    "\n",
    "    user_liked_pages = user_pages[user_id]\n",
    "\n",
    "    page_suggestion = {}\n",
    "\n",
    "    for other_user,pages in user_pages.items():\n",
    "\n",
    "       if other_user != user_id:\n",
    " \n",
    "             shared_pages = user_liked_pages.intersection(pages)\n",
    "\n",
    "       for page in pages: #all pages liked by user\n",
    "\n",
    "             if page not in user_liked_pages: #pages which is not liked by user\n",
    "\n",
    "                 page_suggestion[page] = page_suggestion.get(page,0) + len(shared_pages)\n",
    "\n",
    "\n",
    "                  \n",
    "    sorted_page = sorted(page_suggestion.items(),key=lambda x:x[1],reverse=True)\n",
    "\n",
    "    return [(page_id,score) for page_id, score in sorted_page]\n",
    "    \n",
    "     \n",
    "\n",
    "data = load_data(\"data3.json\")\n",
    "user_id = 1\n",
    "page_recommendation = find_pags_you_might_like(user_id,data)\n",
    "print(page_recommendation)\n",
    "\n",
    "\n"
   ]
  },
  {
   "cell_type": "code",
   "execution_count": null,
   "id": "e215c396-38aa-46dc-9aca-812d4d06e12a",
   "metadata": {},
   "outputs": [],
   "source": []
  }
 ],
 "metadata": {
  "kernelspec": {
   "display_name": "Python 3 (ipykernel)",
   "language": "python",
   "name": "python3"
  },
  "language_info": {
   "codemirror_mode": {
    "name": "ipython",
    "version": 3
   },
   "file_extension": ".py",
   "mimetype": "text/x-python",
   "name": "python",
   "nbconvert_exporter": "python",
   "pygments_lexer": "ipython3",
   "version": "3.12.4"
  }
 },
 "nbformat": 4,
 "nbformat_minor": 5
}
