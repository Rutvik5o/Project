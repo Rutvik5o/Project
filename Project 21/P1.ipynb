{
 "cells": [
  {
   "cell_type": "code",
   "execution_count": 13,
   "id": "f9603f1a-27bb-4e62-b980-7a326ad2c104",
   "metadata": {},
   "outputs": [],
   "source": [
    "#let write the function to lead the data\n",
    "\n",
    "def load_data(filename):\n",
    "    with open(filename,\"r\") as f:\n",
    "        data = json.load(f)\n",
    "    return data\n",
    "        "
   ]
  },
  {
   "cell_type": "code",
   "execution_count": 7,
   "id": "295b3931-7b59-4c50-9b01-5c28048c3941",
   "metadata": {},
   "outputs": [],
   "source": [
    "data=load_data(\"data.json\")"
   ]
  },
  {
   "cell_type": "code",
   "execution_count": 9,
   "id": "37f15335-a154-4b39-ac02-db253b359c0e",
   "metadata": {},
   "outputs": [
    {
     "data": {
      "text/plain": [
       "{'users': [{'id': 1, 'name': 'Amit', 'friends': [2, 3], 'liked_pages': [101]},\n",
       "  {'id': 2, 'name': 'Priya', 'friends': [1, 4], 'liked_pages': [102]},\n",
       "  {'id': 3, 'name': 'Rahul', 'friends': [1], 'liked_pages': [101, 103]},\n",
       "  {'id': 4, 'name': 'Sara', 'friends': [2], 'liked_pages': [104]}],\n",
       " 'pages': [{'id': 101, 'name': 'Python Developers'},\n",
       "  {'id': 102, 'name': 'Data Science Enthusiasts'},\n",
       "  {'id': 103, 'name': 'AI & ML Community'},\n",
       "  {'id': 104, 'name': 'Web Dev Hub'}]}"
      ]
     },
     "execution_count": 9,
     "metadata": {},
     "output_type": "execute_result"
    }
   ],
   "source": [
    "data\n"
   ]
  },
  {
   "cell_type": "code",
   "execution_count": 15,
   "id": "6e4f31ab-5a60-44fd-b75e-4b6d3c113c2d",
   "metadata": {},
   "outputs": [
    {
     "data": {
      "text/plain": [
       "dict"
      ]
     },
     "execution_count": 15,
     "metadata": {},
     "output_type": "execute_result"
    }
   ],
   "source": [
    "type(data)"
   ]
  },
  {
   "cell_type": "code",
   "execution_count": 17,
   "id": "54befaff-084f-4574-916b-4fb5c985c315",
   "metadata": {},
   "outputs": [],
   "source": [
    "#write a function to display users and their connections"
   ]
  },
  {
   "cell_type": "code",
   "execution_count": 39,
   "id": "578fb49e-71fa-4725-9ac6-f2ef3732d957",
   "metadata": {},
   "outputs": [
    {
     "name": "stdout",
     "output_type": "stream",
     "text": [
      "Users and their connection\n",
      "\n",
      "ID:1->Amit is friends with :[2, 3] and liked pages are [101]\n",
      "ID:2->Priya is friends with :[1, 4] and liked pages are [102]\n",
      "ID:3->Rahul is friends with :[1] and liked pages are [101, 103]\n",
      "ID:4->Sara is friends with :[2] and liked pages are [104]\n",
      "\n",
      "Pages information:\n",
      "\n",
      "101: Python Developers \n",
      "102: Data Science Enthusiasts \n",
      "103: AI & ML Community \n",
      "104: Web Dev Hub \n"
     ]
    }
   ],
   "source": [
    "def display_users(data):\n",
    "    print(\"Users and their connection\\n\")\n",
    "    for user in data['users']:\n",
    "        print(f\"ID:{user['id']}->{user['name']} is friends with :{user['friends']} and liked pages are {user['liked_pages']}\")\n",
    "    print(\"\\nPages information:\\n\")\n",
    "    for page in data['pages']:\n",
    "        print(f\"{page['id']}: {page['name']} \")\n",
    "\n",
    "display_users(data)\n",
    "        "
   ]
  },
  {
   "cell_type": "code",
   "execution_count": null,
   "id": "ba839701-4a19-4073-9654-2322ac812eed",
   "metadata": {},
   "outputs": [],
   "source": []
  }
 ],
 "metadata": {
  "kernelspec": {
   "display_name": "Python 3 (ipykernel)",
   "language": "python",
   "name": "python3"
  },
  "language_info": {
   "codemirror_mode": {
    "name": "ipython",
    "version": 3
   },
   "file_extension": ".py",
   "mimetype": "text/x-python",
   "name": "python",
   "nbconvert_exporter": "python",
   "pygments_lexer": "ipython3",
   "version": "3.12.4"
  }
 },
 "nbformat": 4,
 "nbformat_minor": 5
}
