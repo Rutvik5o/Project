{
 "cells": [
  {
   "cell_type": "code",
   "execution_count": 7,
   "id": "dc2704fb-d7f9-4fb3-8221-e39b8fce93ba",
   "metadata": {},
   "outputs": [],
   "source": [
    "#People may you know\n",
    "\n",
    "import json"
   ]
  },
  {
   "cell_type": "code",
   "execution_count": 36,
   "id": "760d7e54-0f53-4a09-a420-6e09f432e3a4",
   "metadata": {},
   "outputs": [
    {
     "name": "stdin",
     "output_type": "stream",
     "text": [
      "Enter the user id for you want recommend 10\n"
     ]
    },
    {
     "name": "stdout",
     "output_type": "stream",
     "text": [
      "People you may for user 10 : [11, 6, 4, 7, 14, 15, 18, 1, 2, 3, 13, 22]\n"
     ]
    }
   ],
   "source": [
    "def load_data(filename):\n",
    "    with open(filename,\"r\") as f:\n",
    "        return json.load(f)\n",
    "\n",
    "def find_people_may_you_know(user_id,data):\n",
    "    user_friends = {}\n",
    "    for user in data['users']:\n",
    "        user_friends[user['id']] = set(user['friends']) #performing taken taken_user id in only entering their friends with no duplication\n",
    "    if user_id not in user_friends:\n",
    "        return []\n",
    "  \n",
    "\n",
    "    direct_friends = user_friends[user_id] #store all the friends\n",
    "    suggestions = {}\n",
    "    for friend in direct_friends:\n",
    "        for mutual in user_friends[friend]:\n",
    "            if mutual!=user_id and mutual not in direct_friends:\n",
    "                #count mutual friends\n",
    "                suggestions[mutual] = suggestions.get(mutual,0)+1 #if mutual dosn't exist then it will return 0.\n",
    "\n",
    "    sorted_suggestions = sorted(suggestions.items(),key = lambda x:x[1],reverse=True) #.items returns in key,value pair and sort according sescond\n",
    "    return [user_id for user_id, mutual_count in sorted_suggestions]\n",
    "   \n",
    "#load the data\n",
    "data = load_data(\"data3.json\")\n",
    "user_id=int(input(\"Enter the user id for you want recommend\"))\n",
    "\n",
    "recommendation = find_people_may_you_know(user_id,data)\n",
    "print(f\"People you may for user {user_id} : {recommendation}\")"
   ]
  },
  {
   "cell_type": "code",
   "execution_count": null,
   "id": "9b537b44-79f9-4bd4-a325-2f163bbf4d65",
   "metadata": {},
   "outputs": [],
   "source": []
  }
 ],
 "metadata": {
  "kernelspec": {
   "display_name": "Python 3 (ipykernel)",
   "language": "python",
   "name": "python3"
  },
  "language_info": {
   "codemirror_mode": {
    "name": "ipython",
    "version": 3
   },
   "file_extension": ".py",
   "mimetype": "text/x-python",
   "name": "python",
   "nbconvert_exporter": "python",
   "pygments_lexer": "ipython3",
   "version": "3.12.4"
  }
 },
 "nbformat": 4,
 "nbformat_minor": 5
}
